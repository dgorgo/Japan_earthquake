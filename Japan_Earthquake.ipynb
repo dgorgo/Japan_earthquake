{
 "cells": [
  {
   "cell_type": "markdown",
   "id": "6178e017",
   "metadata": {},
   "source": [
    "# Japan Earthquake"
   ]
  },
  {
   "cell_type": "code",
   "execution_count": 1,
   "id": "50c2f6a7",
   "metadata": {},
   "outputs": [],
   "source": [
    "import numpy as np\n",
    "import pandas as pd\n",
    "\n",
    "\n",
    "import matplotlib.pyplot as plt\n",
    "import seaborn as sns\n",
    "\n",
    "\n",
    "from sklearn.linear_model import LinearRegression\n",
    "from sklearn.tree import DecisionTreeRegressor\n",
    "from sklearn.ensemble import RandomForestRegressor\n",
    "from sklearn.neighbors import KNeighborsRegressor\n",
    "from sklearn.svm import SVR\n",
    "from sklearn.preprocessing import LabelEncoder, StandardScaler\n",
    "from sklearn.metrics import mean_absolute_error, mean_squared_error, r2_score"
   ]
  },
  {
   "cell_type": "code",
   "execution_count": 2,
   "id": "7f90eafd",
   "metadata": {},
   "outputs": [],
   "source": [
    "jpn = pd.read_csv('japan_earth.csv')"
   ]
  },
  {
   "cell_type": "markdown",
   "id": "7020aba0",
   "metadata": {},
   "source": [
    "#### The Data"
   ]
  },
  {
   "cell_type": "code",
   "execution_count": 3,
   "id": "efd614e2",
   "metadata": {},
   "outputs": [
    {
     "data": {
      "text/html": [
       "<div>\n",
       "<style scoped>\n",
       "    .dataframe tbody tr th:only-of-type {\n",
       "        vertical-align: middle;\n",
       "    }\n",
       "\n",
       "    .dataframe tbody tr th {\n",
       "        vertical-align: top;\n",
       "    }\n",
       "\n",
       "    .dataframe thead th {\n",
       "        text-align: right;\n",
       "    }\n",
       "</style>\n",
       "<table border=\"1\" class=\"dataframe\">\n",
       "  <thead>\n",
       "    <tr style=\"text-align: right;\">\n",
       "      <th></th>\n",
       "      <th>Unnamed: 0</th>\n",
       "      <th>Date</th>\n",
       "      <th>Region</th>\n",
       "      <th>Depth</th>\n",
       "      <th>Magnitude</th>\n",
       "      <th>Deaths</th>\n",
       "      <th>Total damage</th>\n",
       "    </tr>\n",
       "  </thead>\n",
       "  <tbody>\n",
       "    <tr>\n",
       "      <th>0</th>\n",
       "      <td>0</td>\n",
       "      <td>01/01/2024</td>\n",
       "      <td>Honshu (Ishikawa)</td>\n",
       "      <td>10 km</td>\n",
       "      <td>7.5</td>\n",
       "      <td>240</td>\n",
       "      <td>NaN</td>\n",
       "    </tr>\n",
       "    <tr>\n",
       "      <th>1</th>\n",
       "      <td>1</td>\n",
       "      <td>10/08/2023</td>\n",
       "      <td>Izu Islands</td>\n",
       "      <td>10 km</td>\n",
       "      <td>4.9</td>\n",
       "      <td>0</td>\n",
       "      <td>NaN</td>\n",
       "    </tr>\n",
       "    <tr>\n",
       "      <th>2</th>\n",
       "      <td>2</td>\n",
       "      <td>10/05/2023</td>\n",
       "      <td>Izu Islands</td>\n",
       "      <td>10 km</td>\n",
       "      <td>6.1</td>\n",
       "      <td>0</td>\n",
       "      <td>NaN</td>\n",
       "    </tr>\n",
       "    <tr>\n",
       "      <th>3</th>\n",
       "      <td>3</td>\n",
       "      <td>05/05/2023</td>\n",
       "      <td>Honshu (Ishikawa, Toyama)</td>\n",
       "      <td>8 km</td>\n",
       "      <td>6.2</td>\n",
       "      <td>1</td>\n",
       "      <td>NaN</td>\n",
       "    </tr>\n",
       "    <tr>\n",
       "      <th>4</th>\n",
       "      <td>4</td>\n",
       "      <td>03/16/2022</td>\n",
       "      <td>Off Fukushima</td>\n",
       "      <td>63 km</td>\n",
       "      <td>7.3</td>\n",
       "      <td>4</td>\n",
       "      <td>NaN</td>\n",
       "    </tr>\n",
       "  </tbody>\n",
       "</table>\n",
       "</div>"
      ],
      "text/plain": [
       "   Unnamed: 0        Date                     Region  Depth  Magnitude  \\\n",
       "0           0  01/01/2024          Honshu (Ishikawa)  10 km        7.5   \n",
       "1           1  10/08/2023                Izu Islands  10 km        4.9   \n",
       "2           2  10/05/2023                Izu Islands  10 km        6.1   \n",
       "3           3  05/05/2023  Honshu (Ishikawa, Toyama)   8 km        6.2   \n",
       "4           4  03/16/2022              Off Fukushima  63 km        7.3   \n",
       "\n",
       "   Deaths  Total damage  \n",
       "0     240           NaN  \n",
       "1       0           NaN  \n",
       "2       0           NaN  \n",
       "3       1           NaN  \n",
       "4       4           NaN  "
      ]
     },
     "execution_count": 3,
     "metadata": {},
     "output_type": "execute_result"
    }
   ],
   "source": [
    "jpn.head()"
   ]
  },
  {
   "cell_type": "code",
   "execution_count": 4,
   "id": "6e47b5e2",
   "metadata": {},
   "outputs": [
    {
     "data": {
      "text/plain": [
       "Unnamed: 0        int64\n",
       "Date             object\n",
       "Region           object\n",
       "Depth            object\n",
       "Magnitude       float64\n",
       "Deaths            int64\n",
       "Total damage    float64\n",
       "dtype: object"
      ]
     },
     "execution_count": 4,
     "metadata": {},
     "output_type": "execute_result"
    }
   ],
   "source": [
    "jpn.dtypes"
   ]
  },
  {
   "cell_type": "code",
   "execution_count": 5,
   "id": "1fb6d078",
   "metadata": {},
   "outputs": [],
   "source": [
    "Jpn = jpn.copy()"
   ]
  },
  {
   "cell_type": "code",
   "execution_count": 6,
   "id": "43ace3ab",
   "metadata": {},
   "outputs": [],
   "source": [
    "Jpn['Date'] = pd.to_datetime(jpn['Date'])"
   ]
  },
  {
   "cell_type": "code",
   "execution_count": 7,
   "id": "9c51f2d1",
   "metadata": {},
   "outputs": [
    {
     "data": {
      "text/plain": [
       "0     NaN\n",
       "1     NaN\n",
       "2     NaN\n",
       "3     NaN\n",
       "4     NaN\n",
       "       ..\n",
       "166   NaN\n",
       "167   NaN\n",
       "168   NaN\n",
       "169   NaN\n",
       "170   NaN\n",
       "Name: Total damage, Length: 171, dtype: float64"
      ]
     },
     "execution_count": 7,
     "metadata": {},
     "output_type": "execute_result"
    }
   ],
   "source": [
    "Jpn['Total damage']"
   ]
  },
  {
   "cell_type": "code",
   "execution_count": 8,
   "id": "f600961c",
   "metadata": {},
   "outputs": [],
   "source": [
    "Jpn.drop('Unnamed: 0', axis=1, inplace=True)"
   ]
  },
  {
   "cell_type": "code",
   "execution_count": 9,
   "id": "78b746a4",
   "metadata": {},
   "outputs": [
    {
     "data": {
      "text/html": [
       "<div>\n",
       "<style scoped>\n",
       "    .dataframe tbody tr th:only-of-type {\n",
       "        vertical-align: middle;\n",
       "    }\n",
       "\n",
       "    .dataframe tbody tr th {\n",
       "        vertical-align: top;\n",
       "    }\n",
       "\n",
       "    .dataframe thead th {\n",
       "        text-align: right;\n",
       "    }\n",
       "</style>\n",
       "<table border=\"1\" class=\"dataframe\">\n",
       "  <thead>\n",
       "    <tr style=\"text-align: right;\">\n",
       "      <th></th>\n",
       "      <th>Date</th>\n",
       "      <th>Region</th>\n",
       "      <th>Depth</th>\n",
       "      <th>Magnitude</th>\n",
       "      <th>Deaths</th>\n",
       "      <th>Total damage</th>\n",
       "    </tr>\n",
       "  </thead>\n",
       "  <tbody>\n",
       "    <tr>\n",
       "      <th>0</th>\n",
       "      <td>2024-01-01</td>\n",
       "      <td>Honshu (Ishikawa)</td>\n",
       "      <td>10 km</td>\n",
       "      <td>7.5</td>\n",
       "      <td>240</td>\n",
       "      <td>NaN</td>\n",
       "    </tr>\n",
       "    <tr>\n",
       "      <th>1</th>\n",
       "      <td>2023-10-08</td>\n",
       "      <td>Izu Islands</td>\n",
       "      <td>10 km</td>\n",
       "      <td>4.9</td>\n",
       "      <td>0</td>\n",
       "      <td>NaN</td>\n",
       "    </tr>\n",
       "    <tr>\n",
       "      <th>2</th>\n",
       "      <td>2023-10-05</td>\n",
       "      <td>Izu Islands</td>\n",
       "      <td>10 km</td>\n",
       "      <td>6.1</td>\n",
       "      <td>0</td>\n",
       "      <td>NaN</td>\n",
       "    </tr>\n",
       "    <tr>\n",
       "      <th>3</th>\n",
       "      <td>2023-05-05</td>\n",
       "      <td>Honshu (Ishikawa, Toyama)</td>\n",
       "      <td>8 km</td>\n",
       "      <td>6.2</td>\n",
       "      <td>1</td>\n",
       "      <td>NaN</td>\n",
       "    </tr>\n",
       "    <tr>\n",
       "      <th>4</th>\n",
       "      <td>2022-03-16</td>\n",
       "      <td>Off Fukushima</td>\n",
       "      <td>63 km</td>\n",
       "      <td>7.3</td>\n",
       "      <td>4</td>\n",
       "      <td>NaN</td>\n",
       "    </tr>\n",
       "    <tr>\n",
       "      <th>...</th>\n",
       "      <td>...</td>\n",
       "      <td>...</td>\n",
       "      <td>...</td>\n",
       "      <td>...</td>\n",
       "      <td>...</td>\n",
       "      <td>...</td>\n",
       "    </tr>\n",
       "    <tr>\n",
       "      <th>166</th>\n",
       "      <td>1956-03-05</td>\n",
       "      <td>Ne. Hokkaido Island, Japan</td>\n",
       "      <td>NaN</td>\n",
       "      <td>0.0</td>\n",
       "      <td>0</td>\n",
       "      <td>NaN</td>\n",
       "    </tr>\n",
       "    <tr>\n",
       "      <th>167</th>\n",
       "      <td>1954-11-18</td>\n",
       "      <td>Honshu (Miyagi Prefecture)</td>\n",
       "      <td>55 km</td>\n",
       "      <td>6.5</td>\n",
       "      <td>0</td>\n",
       "      <td>NaN</td>\n",
       "    </tr>\n",
       "    <tr>\n",
       "      <th>168</th>\n",
       "      <td>1953-11-25</td>\n",
       "      <td>Kashima</td>\n",
       "      <td>NaN</td>\n",
       "      <td>7.4</td>\n",
       "      <td>1</td>\n",
       "      <td>NaN</td>\n",
       "    </tr>\n",
       "    <tr>\n",
       "      <th>169</th>\n",
       "      <td>1952-03-09</td>\n",
       "      <td>Hokkaido</td>\n",
       "      <td>NaN</td>\n",
       "      <td>7.1</td>\n",
       "      <td>0</td>\n",
       "      <td>NaN</td>\n",
       "    </tr>\n",
       "    <tr>\n",
       "      <th>170</th>\n",
       "      <td>1952-03-04</td>\n",
       "      <td>Hokkaido</td>\n",
       "      <td>41 km</td>\n",
       "      <td>8.1</td>\n",
       "      <td>33</td>\n",
       "      <td>NaN</td>\n",
       "    </tr>\n",
       "  </tbody>\n",
       "</table>\n",
       "<p>171 rows × 6 columns</p>\n",
       "</div>"
      ],
      "text/plain": [
       "          Date                      Region  Depth  Magnitude  Deaths  \\\n",
       "0   2024-01-01           Honshu (Ishikawa)  10 km        7.5     240   \n",
       "1   2023-10-08                 Izu Islands  10 km        4.9       0   \n",
       "2   2023-10-05                 Izu Islands  10 km        6.1       0   \n",
       "3   2023-05-05   Honshu (Ishikawa, Toyama)   8 km        6.2       1   \n",
       "4   2022-03-16               Off Fukushima  63 km        7.3       4   \n",
       "..         ...                         ...    ...        ...     ...   \n",
       "166 1956-03-05  Ne. Hokkaido Island, Japan    NaN        0.0       0   \n",
       "167 1954-11-18  Honshu (Miyagi Prefecture)  55 km        6.5       0   \n",
       "168 1953-11-25                     Kashima    NaN        7.4       1   \n",
       "169 1952-03-09                    Hokkaido    NaN        7.1       0   \n",
       "170 1952-03-04                    Hokkaido  41 km        8.1      33   \n",
       "\n",
       "     Total damage  \n",
       "0             NaN  \n",
       "1             NaN  \n",
       "2             NaN  \n",
       "3             NaN  \n",
       "4             NaN  \n",
       "..            ...  \n",
       "166           NaN  \n",
       "167           NaN  \n",
       "168           NaN  \n",
       "169           NaN  \n",
       "170           NaN  \n",
       "\n",
       "[171 rows x 6 columns]"
      ]
     },
     "execution_count": 9,
     "metadata": {},
     "output_type": "execute_result"
    }
   ],
   "source": [
    "Jpn"
   ]
  },
  {
   "cell_type": "code",
   "execution_count": 10,
   "id": "857cd8df",
   "metadata": {},
   "outputs": [],
   "source": [
    "Jpn['Magnitude'] = pd.to_numeric(Jpn['Magnitude'], errors='coerce')\n"
   ]
  },
  {
   "cell_type": "code",
   "execution_count": 11,
   "id": "ba5f65b6",
   "metadata": {},
   "outputs": [],
   "source": [
    "# Assuming your DataFrame is named 'df'\n",
    "Jpn['Depth (km)'] = Jpn['Depth'].str.replace(' km', ' ').astype(float)"
   ]
  },
  {
   "cell_type": "code",
   "execution_count": 12,
   "id": "e867a31a",
   "metadata": {},
   "outputs": [
    {
     "data": {
      "text/html": [
       "<div>\n",
       "<style scoped>\n",
       "    .dataframe tbody tr th:only-of-type {\n",
       "        vertical-align: middle;\n",
       "    }\n",
       "\n",
       "    .dataframe tbody tr th {\n",
       "        vertical-align: top;\n",
       "    }\n",
       "\n",
       "    .dataframe thead th {\n",
       "        text-align: right;\n",
       "    }\n",
       "</style>\n",
       "<table border=\"1\" class=\"dataframe\">\n",
       "  <thead>\n",
       "    <tr style=\"text-align: right;\">\n",
       "      <th></th>\n",
       "      <th>Date</th>\n",
       "      <th>Region</th>\n",
       "      <th>Depth</th>\n",
       "      <th>Magnitude</th>\n",
       "      <th>Deaths</th>\n",
       "      <th>Total damage</th>\n",
       "      <th>Depth (km)</th>\n",
       "    </tr>\n",
       "  </thead>\n",
       "  <tbody>\n",
       "    <tr>\n",
       "      <th>0</th>\n",
       "      <td>2024-01-01</td>\n",
       "      <td>Honshu (Ishikawa)</td>\n",
       "      <td>10 km</td>\n",
       "      <td>7.5</td>\n",
       "      <td>240</td>\n",
       "      <td>NaN</td>\n",
       "      <td>10.0</td>\n",
       "    </tr>\n",
       "    <tr>\n",
       "      <th>1</th>\n",
       "      <td>2023-10-08</td>\n",
       "      <td>Izu Islands</td>\n",
       "      <td>10 km</td>\n",
       "      <td>4.9</td>\n",
       "      <td>0</td>\n",
       "      <td>NaN</td>\n",
       "      <td>10.0</td>\n",
       "    </tr>\n",
       "    <tr>\n",
       "      <th>2</th>\n",
       "      <td>2023-10-05</td>\n",
       "      <td>Izu Islands</td>\n",
       "      <td>10 km</td>\n",
       "      <td>6.1</td>\n",
       "      <td>0</td>\n",
       "      <td>NaN</td>\n",
       "      <td>10.0</td>\n",
       "    </tr>\n",
       "    <tr>\n",
       "      <th>3</th>\n",
       "      <td>2023-05-05</td>\n",
       "      <td>Honshu (Ishikawa, Toyama)</td>\n",
       "      <td>8 km</td>\n",
       "      <td>6.2</td>\n",
       "      <td>1</td>\n",
       "      <td>NaN</td>\n",
       "      <td>8.0</td>\n",
       "    </tr>\n",
       "    <tr>\n",
       "      <th>4</th>\n",
       "      <td>2022-03-16</td>\n",
       "      <td>Off Fukushima</td>\n",
       "      <td>63 km</td>\n",
       "      <td>7.3</td>\n",
       "      <td>4</td>\n",
       "      <td>NaN</td>\n",
       "      <td>63.0</td>\n",
       "    </tr>\n",
       "  </tbody>\n",
       "</table>\n",
       "</div>"
      ],
      "text/plain": [
       "        Date                     Region  Depth  Magnitude  Deaths  \\\n",
       "0 2024-01-01          Honshu (Ishikawa)  10 km        7.5     240   \n",
       "1 2023-10-08                Izu Islands  10 km        4.9       0   \n",
       "2 2023-10-05                Izu Islands  10 km        6.1       0   \n",
       "3 2023-05-05  Honshu (Ishikawa, Toyama)   8 km        6.2       1   \n",
       "4 2022-03-16              Off Fukushima  63 km        7.3       4   \n",
       "\n",
       "   Total damage  Depth (km)  \n",
       "0           NaN        10.0  \n",
       "1           NaN        10.0  \n",
       "2           NaN        10.0  \n",
       "3           NaN         8.0  \n",
       "4           NaN        63.0  "
      ]
     },
     "execution_count": 12,
     "metadata": {},
     "output_type": "execute_result"
    }
   ],
   "source": [
    "Jpn.head()"
   ]
  },
  {
   "cell_type": "code",
   "execution_count": 13,
   "id": "32c12532",
   "metadata": {},
   "outputs": [
    {
     "data": {
      "text/plain": [
       "Date              0\n",
       "Region            0\n",
       "Depth            22\n",
       "Magnitude         0\n",
       "Deaths            0\n",
       "Total damage    171\n",
       "Depth (km)       22\n",
       "dtype: int64"
      ]
     },
     "execution_count": 13,
     "metadata": {},
     "output_type": "execute_result"
    }
   ],
   "source": [
    "Jpn.isna().sum()"
   ]
  },
  {
   "cell_type": "code",
   "execution_count": 14,
   "id": "1fbb1c23",
   "metadata": {},
   "outputs": [
    {
     "data": {
      "text/plain": [
       "1197"
      ]
     },
     "execution_count": 14,
     "metadata": {},
     "output_type": "execute_result"
    }
   ],
   "source": [
    "Jpn.size"
   ]
  },
  {
   "cell_type": "code",
   "execution_count": 15,
   "id": "b80ffc44",
   "metadata": {},
   "outputs": [
    {
     "data": {
      "text/plain": [
       "(171, 7)"
      ]
     },
     "execution_count": 15,
     "metadata": {},
     "output_type": "execute_result"
    }
   ],
   "source": [
    "Jpn.shape"
   ]
  },
  {
   "cell_type": "code",
   "execution_count": 16,
   "id": "6b473ce5",
   "metadata": {},
   "outputs": [
    {
     "name": "stdout",
     "output_type": "stream",
     "text": [
      "<class 'pandas.core.frame.DataFrame'>\n",
      "RangeIndex: 171 entries, 0 to 170\n",
      "Data columns (total 7 columns):\n",
      " #   Column        Non-Null Count  Dtype         \n",
      "---  ------        --------------  -----         \n",
      " 0   Date          171 non-null    datetime64[ns]\n",
      " 1   Region        171 non-null    object        \n",
      " 2   Depth         149 non-null    object        \n",
      " 3   Magnitude     171 non-null    float64       \n",
      " 4   Deaths        171 non-null    int64         \n",
      " 5   Total damage  0 non-null      float64       \n",
      " 6   Depth (km)    149 non-null    float64       \n",
      "dtypes: datetime64[ns](1), float64(3), int64(1), object(2)\n",
      "memory usage: 9.5+ KB\n"
     ]
    }
   ],
   "source": [
    "Jpn.info()"
   ]
  },
  {
   "cell_type": "code",
   "execution_count": 17,
   "id": "ecdc3e87",
   "metadata": {},
   "outputs": [
    {
     "data": {
      "text/html": [
       "<div>\n",
       "<style scoped>\n",
       "    .dataframe tbody tr th:only-of-type {\n",
       "        vertical-align: middle;\n",
       "    }\n",
       "\n",
       "    .dataframe tbody tr th {\n",
       "        vertical-align: top;\n",
       "    }\n",
       "\n",
       "    .dataframe thead th {\n",
       "        text-align: right;\n",
       "    }\n",
       "</style>\n",
       "<table border=\"1\" class=\"dataframe\">\n",
       "  <thead>\n",
       "    <tr style=\"text-align: right;\">\n",
       "      <th></th>\n",
       "      <th>Magnitude</th>\n",
       "      <th>Deaths</th>\n",
       "      <th>Total damage</th>\n",
       "      <th>Depth (km)</th>\n",
       "    </tr>\n",
       "  </thead>\n",
       "  <tbody>\n",
       "    <tr>\n",
       "      <th>count</th>\n",
       "      <td>171.000000</td>\n",
       "      <td>171.000000</td>\n",
       "      <td>0.0</td>\n",
       "      <td>149.000000</td>\n",
       "    </tr>\n",
       "    <tr>\n",
       "      <th>mean</th>\n",
       "      <td>6.122222</td>\n",
       "      <td>45.695906</td>\n",
       "      <td>NaN</td>\n",
       "      <td>31.127517</td>\n",
       "    </tr>\n",
       "    <tr>\n",
       "      <th>std</th>\n",
       "      <td>1.909012</td>\n",
       "      <td>435.048126</td>\n",
       "      <td>NaN</td>\n",
       "      <td>17.266312</td>\n",
       "    </tr>\n",
       "    <tr>\n",
       "      <th>min</th>\n",
       "      <td>0.000000</td>\n",
       "      <td>0.000000</td>\n",
       "      <td>NaN</td>\n",
       "      <td>1.000000</td>\n",
       "    </tr>\n",
       "    <tr>\n",
       "      <th>25%</th>\n",
       "      <td>6.000000</td>\n",
       "      <td>0.000000</td>\n",
       "      <td>NaN</td>\n",
       "      <td>17.000000</td>\n",
       "    </tr>\n",
       "    <tr>\n",
       "      <th>50%</th>\n",
       "      <td>6.600000</td>\n",
       "      <td>0.000000</td>\n",
       "      <td>NaN</td>\n",
       "      <td>30.000000</td>\n",
       "    </tr>\n",
       "    <tr>\n",
       "      <th>75%</th>\n",
       "      <td>7.100000</td>\n",
       "      <td>1.000000</td>\n",
       "      <td>NaN</td>\n",
       "      <td>45.000000</td>\n",
       "    </tr>\n",
       "    <tr>\n",
       "      <th>max</th>\n",
       "      <td>9.100000</td>\n",
       "      <td>5502.000000</td>\n",
       "      <td>NaN</td>\n",
       "      <td>63.000000</td>\n",
       "    </tr>\n",
       "  </tbody>\n",
       "</table>\n",
       "</div>"
      ],
      "text/plain": [
       "        Magnitude       Deaths  Total damage  Depth (km)\n",
       "count  171.000000   171.000000           0.0  149.000000\n",
       "mean     6.122222    45.695906           NaN   31.127517\n",
       "std      1.909012   435.048126           NaN   17.266312\n",
       "min      0.000000     0.000000           NaN    1.000000\n",
       "25%      6.000000     0.000000           NaN   17.000000\n",
       "50%      6.600000     0.000000           NaN   30.000000\n",
       "75%      7.100000     1.000000           NaN   45.000000\n",
       "max      9.100000  5502.000000           NaN   63.000000"
      ]
     },
     "execution_count": 17,
     "metadata": {},
     "output_type": "execute_result"
    }
   ],
   "source": [
    "Jpn.describe()"
   ]
  },
  {
   "cell_type": "code",
   "execution_count": 18,
   "id": "058e066c",
   "metadata": {},
   "outputs": [
    {
     "data": {
      "text/plain": [
       "Index(['Date', 'Region', 'Depth', 'Magnitude', 'Deaths', 'Total damage',\n",
       "       'Depth (km)'],\n",
       "      dtype='object')"
      ]
     },
     "execution_count": 18,
     "metadata": {},
     "output_type": "execute_result"
    }
   ],
   "source": [
    "Jpn.columns"
   ]
  },
  {
   "cell_type": "code",
   "execution_count": 19,
   "id": "8f0e858e",
   "metadata": {},
   "outputs": [],
   "source": [
    "Jpn = Jpn[['Date', 'Region', 'Magnitude', 'Deaths', 'Depth (km)']]"
   ]
  },
  {
   "cell_type": "code",
   "execution_count": 20,
   "id": "ddfb598b",
   "metadata": {},
   "outputs": [
    {
     "name": "stderr",
     "output_type": "stream",
     "text": [
      "C:\\Users\\ancep\\AppData\\Local\\Temp\\ipykernel_16220\\2890564128.py:1: FutureWarning: DataFrame.mean and DataFrame.median with numeric_only=None will include datetime64 and datetime64tz columns in a future version.\n",
      "  Jpn.fillna(Jpn.mean(), inplace=True)\n",
      "C:\\Users\\ancep\\AppData\\Local\\Temp\\ipykernel_16220\\2890564128.py:1: FutureWarning: Dropping of nuisance columns in DataFrame reductions (with 'numeric_only=None') is deprecated; in a future version this will raise TypeError.  Select only valid columns before calling the reduction.\n",
      "  Jpn.fillna(Jpn.mean(), inplace=True)\n",
      "C:\\Users\\ancep\\AppData\\Local\\Temp\\ipykernel_16220\\2890564128.py:1: SettingWithCopyWarning: \n",
      "A value is trying to be set on a copy of a slice from a DataFrame.\n",
      "Try using .loc[row_indexer,col_indexer] = value instead\n",
      "\n",
      "See the caveats in the documentation: https://pandas.pydata.org/pandas-docs/stable/user_guide/indexing.html#returning-a-view-versus-a-copy\n",
      "  Jpn.fillna(Jpn.mean(), inplace=True)\n"
     ]
    }
   ],
   "source": [
    "Jpn.fillna(Jpn.mean(), inplace=True)"
   ]
  },
  {
   "cell_type": "code",
   "execution_count": 21,
   "id": "5299fcdd",
   "metadata": {},
   "outputs": [
    {
     "data": {
      "text/html": [
       "<div>\n",
       "<style scoped>\n",
       "    .dataframe tbody tr th:only-of-type {\n",
       "        vertical-align: middle;\n",
       "    }\n",
       "\n",
       "    .dataframe tbody tr th {\n",
       "        vertical-align: top;\n",
       "    }\n",
       "\n",
       "    .dataframe thead th {\n",
       "        text-align: right;\n",
       "    }\n",
       "</style>\n",
       "<table border=\"1\" class=\"dataframe\">\n",
       "  <thead>\n",
       "    <tr style=\"text-align: right;\">\n",
       "      <th></th>\n",
       "      <th>Date</th>\n",
       "      <th>Region</th>\n",
       "      <th>Magnitude</th>\n",
       "      <th>Deaths</th>\n",
       "      <th>Depth (km)</th>\n",
       "    </tr>\n",
       "  </thead>\n",
       "  <tbody>\n",
       "    <tr>\n",
       "      <th>0</th>\n",
       "      <td>2024-01-01</td>\n",
       "      <td>Honshu (Ishikawa)</td>\n",
       "      <td>7.5</td>\n",
       "      <td>240</td>\n",
       "      <td>10.0</td>\n",
       "    </tr>\n",
       "    <tr>\n",
       "      <th>1</th>\n",
       "      <td>2023-10-08</td>\n",
       "      <td>Izu Islands</td>\n",
       "      <td>4.9</td>\n",
       "      <td>0</td>\n",
       "      <td>10.0</td>\n",
       "    </tr>\n",
       "    <tr>\n",
       "      <th>2</th>\n",
       "      <td>2023-10-05</td>\n",
       "      <td>Izu Islands</td>\n",
       "      <td>6.1</td>\n",
       "      <td>0</td>\n",
       "      <td>10.0</td>\n",
       "    </tr>\n",
       "    <tr>\n",
       "      <th>3</th>\n",
       "      <td>2023-05-05</td>\n",
       "      <td>Honshu (Ishikawa, Toyama)</td>\n",
       "      <td>6.2</td>\n",
       "      <td>1</td>\n",
       "      <td>8.0</td>\n",
       "    </tr>\n",
       "    <tr>\n",
       "      <th>4</th>\n",
       "      <td>2022-03-16</td>\n",
       "      <td>Off Fukushima</td>\n",
       "      <td>7.3</td>\n",
       "      <td>4</td>\n",
       "      <td>63.0</td>\n",
       "    </tr>\n",
       "  </tbody>\n",
       "</table>\n",
       "</div>"
      ],
      "text/plain": [
       "        Date                     Region  Magnitude  Deaths  Depth (km)\n",
       "0 2024-01-01          Honshu (Ishikawa)        7.5     240        10.0\n",
       "1 2023-10-08                Izu Islands        4.9       0        10.0\n",
       "2 2023-10-05                Izu Islands        6.1       0        10.0\n",
       "3 2023-05-05  Honshu (Ishikawa, Toyama)        6.2       1         8.0\n",
       "4 2022-03-16              Off Fukushima        7.3       4        63.0"
      ]
     },
     "execution_count": 21,
     "metadata": {},
     "output_type": "execute_result"
    }
   ],
   "source": [
    "Jpn.head()"
   ]
  },
  {
   "cell_type": "code",
   "execution_count": 22,
   "id": "344342ae",
   "metadata": {},
   "outputs": [
    {
     "data": {
      "text/plain": [
       "Date          0\n",
       "Region        0\n",
       "Magnitude     0\n",
       "Deaths        0\n",
       "Depth (km)    0\n",
       "dtype: int64"
      ]
     },
     "execution_count": 22,
     "metadata": {},
     "output_type": "execute_result"
    }
   ],
   "source": [
    "Jpn.isna().sum()"
   ]
  },
  {
   "cell_type": "code",
   "execution_count": 23,
   "id": "c2f4c981",
   "metadata": {},
   "outputs": [],
   "source": [
    "df = Jpn.copy()"
   ]
  },
  {
   "cell_type": "code",
   "execution_count": 24,
   "id": "8abc3033",
   "metadata": {},
   "outputs": [],
   "source": [
    "df_corr = df.corr()"
   ]
  },
  {
   "cell_type": "code",
   "execution_count": 25,
   "id": "21028700",
   "metadata": {},
   "outputs": [
    {
     "data": {
      "text/html": [
       "<div>\n",
       "<style scoped>\n",
       "    .dataframe tbody tr th:only-of-type {\n",
       "        vertical-align: middle;\n",
       "    }\n",
       "\n",
       "    .dataframe tbody tr th {\n",
       "        vertical-align: top;\n",
       "    }\n",
       "\n",
       "    .dataframe thead th {\n",
       "        text-align: right;\n",
       "    }\n",
       "</style>\n",
       "<table border=\"1\" class=\"dataframe\">\n",
       "  <thead>\n",
       "    <tr style=\"text-align: right;\">\n",
       "      <th></th>\n",
       "      <th>Magnitude</th>\n",
       "      <th>Deaths</th>\n",
       "      <th>Depth (km)</th>\n",
       "    </tr>\n",
       "  </thead>\n",
       "  <tbody>\n",
       "    <tr>\n",
       "      <th>Magnitude</th>\n",
       "      <td>1.000000</td>\n",
       "      <td>0.067509</td>\n",
       "      <td>-0.009878</td>\n",
       "    </tr>\n",
       "    <tr>\n",
       "      <th>Deaths</th>\n",
       "      <td>0.067509</td>\n",
       "      <td>1.000000</td>\n",
       "      <td>0.082606</td>\n",
       "    </tr>\n",
       "    <tr>\n",
       "      <th>Depth (km)</th>\n",
       "      <td>-0.009878</td>\n",
       "      <td>0.082606</td>\n",
       "      <td>1.000000</td>\n",
       "    </tr>\n",
       "  </tbody>\n",
       "</table>\n",
       "</div>"
      ],
      "text/plain": [
       "            Magnitude    Deaths  Depth (km)\n",
       "Magnitude    1.000000  0.067509   -0.009878\n",
       "Deaths       0.067509  1.000000    0.082606\n",
       "Depth (km)  -0.009878  0.082606    1.000000"
      ]
     },
     "execution_count": 25,
     "metadata": {},
     "output_type": "execute_result"
    }
   ],
   "source": [
    "df_corr"
   ]
  },
  {
   "cell_type": "code",
   "execution_count": 26,
   "id": "13ae657c",
   "metadata": {},
   "outputs": [
    {
     "data": {
      "image/png": "[encoded data removed]",
      "text/plain": [
       "<Figure size 600x400 with 2 Axes>"
      ]
     },
     "metadata": {},
     "output_type": "display_data"
    }
   ],
   "source": [
    "# Create a heatmap\n",
    "plt.figure(figsize=(6,4))  # Adjust the size as needed\n",
    "sns.heatmap(df_corr, annot=True, cmap='coolwarm', fmt=\".2f\")\n",
    "plt.title('Correlation Heatmap')\n",
    "plt.show()"
   ]
  },
  {
   "cell_type": "code",
   "execution_count": 27,
   "id": "5341e814",
   "metadata": {},
   "outputs": [],
   "source": [
    "df.set_index('Date', inplace=True)\n",
    "df.sort_index(inplace=True)"
   ]
  },
  {
   "cell_type": "markdown",
   "id": "1204580a",
   "metadata": {},
   "source": [
    "#### Visualization"
   ]
  },
  {
   "cell_type": "code",
   "execution_count": 28,
   "id": "93e18c5b",
   "metadata": {},
   "outputs": [
    {
     "data": {
      "image/png": "[encoded data removed]",
      "text/plain": [
       "<Figure size 640x480 with 1 Axes>"
      ]
     },
     "metadata": {},
     "output_type": "display_data"
    }
   ],
   "source": [
    "# Plotting time series of Magnitude\n",
    "plt.plot(df['Magnitude'])\n",
    "plt.xlabel('Date')\n",
    "plt.ylabel('Magnitude')\n",
    "plt.title('Earthquake Magnitude Over Time')\n",
    "plt.show()"
   ]
  },
  {
   "cell_type": "code",
   "execution_count": 29,
   "id": "50b5cc50",
   "metadata": {},
   "outputs": [
    {
     "name": "stderr",
     "output_type": "stream",
     "text": [
      "C:\\Users\\ancep\\AppData\\Local\\Temp\\ipykernel_16220\\1619405114.py:1: SettingWithCopyWarning: \n",
      "A value is trying to be set on a copy of a slice from a DataFrame.\n",
      "Try using .loc[row_indexer,col_indexer] = value instead\n",
      "\n",
      "See the caveats in the documentation: https://pandas.pydata.org/pandas-docs/stable/user_guide/indexing.html#returning-a-view-versus-a-copy\n",
      "  Jpn['Year'] = Jpn['Date'].dt.year\n"
     ]
    }
   ],
   "source": [
    "Jpn['Year'] = Jpn['Date'].dt.year\n",
    "Jpn['Month'] = Jpn['Date'].dt.month"
   ]
  },
  {
   "cell_type": "code",
   "execution_count": 30,
   "id": "3cc64642",
   "metadata": {},
   "outputs": [
    {
     "data": {
      "image/png": "[encoded data removed]",
      "text/plain": [
       "<Figure size 1200x600 with 1 Axes>"
      ]
     },
     "metadata": {},
     "output_type": "display_data"
    }
   ],
   "source": [
    "# Plot the number of earthquakes per year\n",
    "plt.figure(figsize=(12, 6))\n",
    "sns.countplot(x='Year', data=Jpn)\n",
    "plt.title('Number of Earthquakes Per Year')\n",
    "plt.xlabel('Year')\n",
    "plt.ylabel('Number of Earthquakes')\n",
    "plt.xticks(rotation=60)\n",
    "plt.show()"
   ]
  },
  {
   "cell_type": "code",
   "execution_count": 31,
   "id": "7c3305ab",
   "metadata": {},
   "outputs": [
    {
     "data": {
      "image/png": "[encoded data removed]",
      "text/plain": [
       "<Figure size 1200x600 with 1 Axes>"
      ]
     },
     "metadata": {},
     "output_type": "display_data"
    }
   ],
   "source": [
    "\n",
    "# Plot the number of earthquakes per month\n",
    "plt.figure(figsize=(12, 6))\n",
    "sns.countplot(x='Month', data=Jpn)\n",
    "plt.title('Number of Earthquakes Per Month')\n",
    "plt.xlabel('Month')\n",
    "plt.ylabel('Number of Earthquakes')\n",
    "plt.xticks(rotation=360)\n",
    "plt.show()"
   ]
  },
  {
   "cell_type": "code",
   "execution_count": 32,
   "id": "023c8655",
   "metadata": {},
   "outputs": [],
   "source": [
    "\n",
    "top_regions_by_frequency = Jpn['Region'].value_counts().nlargest(10).index"
   ]
  },
  {
   "cell_type": "code",
   "execution_count": 33,
   "id": "3f647f50",
   "metadata": {},
   "outputs": [],
   "source": [
    "top_regions_data = Jpn[Jpn['Region'].isin(top_regions_by_frequency)]"
   ]
  },
  {
   "cell_type": "code",
   "execution_count": 34,
   "id": "55fe09bf",
   "metadata": {},
   "outputs": [
    {
     "data": {
      "image/png": "[encoded data removed]",
      "text/plain": [
       "<Figure size 1600x800 with 1 Axes>"
      ]
     },
     "metadata": {},
     "output_type": "display_data"
    }
   ],
   "source": [
    "plt.figure(figsize=(16, 8))\n",
    "sns.countplot(x='Region', data=top_regions_data, order=top_regions_by_frequency)\n",
    "plt.title('Distribution of Earthquakes Across Top Ten Regions')\n",
    "plt.xlabel('Region')\n",
    "plt.ylabel('Number of Earthquakes')\n",
    "plt.xticks(rotation=90)\n",
    "plt.show()"
   ]
  },
  {
   "cell_type": "code",
   "execution_count": 35,
   "id": "36b24b6b",
   "metadata": {},
   "outputs": [
    {
     "data": {
      "image/png": "[encoded data removed]",
      "text/plain": [
       "<Figure size 1600x800 with 1 Axes>"
      ]
     },
     "metadata": {},
     "output_type": "display_data"
    }
   ],
   "source": [
    "plt.figure(figsize=(16, 8))\n",
    "sns.boxplot(x='Region', y='Magnitude', data=top_regions_data, order=top_regions_by_frequency,\n",
    "            palette='viridis')  \n",
    "plt.title('Magnitude of Earthquakes Across Top Ten Regions')\n",
    "plt.xlabel('Region')\n",
    "plt.ylabel('Magnitude')\n",
    "plt.xticks(rotation=90)\n",
    "plt.show()"
   ]
  },
  {
   "cell_type": "code",
   "execution_count": 36,
   "id": "d6fe0597",
   "metadata": {},
   "outputs": [],
   "source": [
    "# Count the number of earthquakes in each region\n",
    "region_counts = Jpn['Region'].value_counts()"
   ]
  },
  {
   "cell_type": "code",
   "execution_count": 37,
   "id": "56b90b79",
   "metadata": {},
   "outputs": [],
   "source": [
    "top_ten = region_counts.head(10).index\n"
   ]
  },
  {
   "cell_type": "code",
   "execution_count": 38,
   "id": "2e76e2ff",
   "metadata": {},
   "outputs": [],
   "source": [
    "jpn_mag = Jpn[Jpn['Region'].isin(top_ten)]"
   ]
  },
  {
   "cell_type": "code",
   "execution_count": 84,
   "id": "6ce8780a",
   "metadata": {},
   "outputs": [
    {
     "data": {
      "image/png": "[encoded data removed]",
      "text/plain": [
       "<Figure size 800x600 with 1 Axes>"
      ]
     },
     "metadata": {},
     "output_type": "display_data"
    }
   ],
   "source": [
    "# Plot the magnitude for the top five regions\n",
    "plt.figure(figsize=(8, 6))\n",
    "for region, group in jpn_mag.groupby('Region'):\n",
    "    plt.scatter([region] * len(group), group['Magnitude'], label=region)\n",
    "\n",
    "\n",
    "plt.title('Regions with most occurrence and magnitude')\n",
    "plt.xlabel('Region')\n",
    "plt.ylabel('Magnitude')\n",
    "plt.xticks(rotation=45)\n",
    "plt.legend()\n",
    "plt.grid(True)\n",
    "plt.show()"
   ]
  },
  {
   "cell_type": "code",
   "execution_count": 40,
   "id": "6659ba3e",
   "metadata": {},
   "outputs": [],
   "source": [
    "Jpn['Day'] = Jpn['Date'].dt.day"
   ]
  },
  {
   "cell_type": "code",
   "execution_count": 41,
   "id": "ddde6969",
   "metadata": {},
   "outputs": [],
   "source": [
    "def get_season(month):\n",
    "    if 3 <= month <= 5:\n",
    "        return 'Spring'\n",
    "    elif 6 <= month <= 8:\n",
    "        return 'Summer'\n",
    "    elif 9 <= month <= 11:\n",
    "        return 'Fall'\n",
    "    else:\n",
    "        return 'Winter'\n",
    "\n",
    "Jpn['Season'] = Jpn['Month'].apply(get_season)"
   ]
  },
  {
   "cell_type": "code",
   "execution_count": 42,
   "id": "4aff22d8",
   "metadata": {},
   "outputs": [],
   "source": [
    "Jpn['DayOfWeek'] = Jpn['Date'].dt.day_name()"
   ]
  },
  {
   "cell_type": "code",
   "execution_count": 43,
   "id": "41288e35",
   "metadata": {},
   "outputs": [],
   "source": [
    "Jpn['IsWeekend'] = Jpn['Date'].dt.dayofweek.isin([5, 6]).astype(int)\n"
   ]
  },
  {
   "cell_type": "code",
   "execution_count": 44,
   "id": "9a5f1aca",
   "metadata": {},
   "outputs": [],
   "source": [
    "earthquakes_per_year = Jpn.groupby('Year')['Magnitude'].count()"
   ]
  },
  {
   "cell_type": "code",
   "execution_count": 45,
   "id": "8e9bb644",
   "metadata": {},
   "outputs": [],
   "source": [
    "epicentre_mag = Jpn.groupby('Depth (km)')['Magnitude'].count()"
   ]
  },
  {
   "cell_type": "code",
   "execution_count": 46,
   "id": "ac44b842",
   "metadata": {},
   "outputs": [
    {
     "data": {
      "text/html": [
       "<div>\n",
       "<style scoped>\n",
       "    .dataframe tbody tr th:only-of-type {\n",
       "        vertical-align: middle;\n",
       "    }\n",
       "\n",
       "    .dataframe tbody tr th {\n",
       "        vertical-align: top;\n",
       "    }\n",
       "\n",
       "    .dataframe thead th {\n",
       "        text-align: right;\n",
       "    }\n",
       "</style>\n",
       "<table border=\"1\" class=\"dataframe\">\n",
       "  <thead>\n",
       "    <tr style=\"text-align: right;\">\n",
       "      <th></th>\n",
       "      <th>Date</th>\n",
       "      <th>Region</th>\n",
       "      <th>Magnitude</th>\n",
       "      <th>Deaths</th>\n",
       "      <th>Depth (km)</th>\n",
       "      <th>Year</th>\n",
       "      <th>Month</th>\n",
       "      <th>Day</th>\n",
       "      <th>Season</th>\n",
       "      <th>DayOfWeek</th>\n",
       "      <th>IsWeekend</th>\n",
       "    </tr>\n",
       "  </thead>\n",
       "  <tbody>\n",
       "    <tr>\n",
       "      <th>0</th>\n",
       "      <td>2024-01-01</td>\n",
       "      <td>Honshu (Ishikawa)</td>\n",
       "      <td>7.5</td>\n",
       "      <td>240</td>\n",
       "      <td>10.0</td>\n",
       "      <td>2024</td>\n",
       "      <td>1</td>\n",
       "      <td>1</td>\n",
       "      <td>Winter</td>\n",
       "      <td>Monday</td>\n",
       "      <td>0</td>\n",
       "    </tr>\n",
       "    <tr>\n",
       "      <th>1</th>\n",
       "      <td>2023-10-08</td>\n",
       "      <td>Izu Islands</td>\n",
       "      <td>4.9</td>\n",
       "      <td>0</td>\n",
       "      <td>10.0</td>\n",
       "      <td>2023</td>\n",
       "      <td>10</td>\n",
       "      <td>8</td>\n",
       "      <td>Fall</td>\n",
       "      <td>Sunday</td>\n",
       "      <td>1</td>\n",
       "    </tr>\n",
       "    <tr>\n",
       "      <th>2</th>\n",
       "      <td>2023-10-05</td>\n",
       "      <td>Izu Islands</td>\n",
       "      <td>6.1</td>\n",
       "      <td>0</td>\n",
       "      <td>10.0</td>\n",
       "      <td>2023</td>\n",
       "      <td>10</td>\n",
       "      <td>5</td>\n",
       "      <td>Fall</td>\n",
       "      <td>Thursday</td>\n",
       "      <td>0</td>\n",
       "    </tr>\n",
       "    <tr>\n",
       "      <th>3</th>\n",
       "      <td>2023-05-05</td>\n",
       "      <td>Honshu (Ishikawa, Toyama)</td>\n",
       "      <td>6.2</td>\n",
       "      <td>1</td>\n",
       "      <td>8.0</td>\n",
       "      <td>2023</td>\n",
       "      <td>5</td>\n",
       "      <td>5</td>\n",
       "      <td>Spring</td>\n",
       "      <td>Friday</td>\n",
       "      <td>0</td>\n",
       "    </tr>\n",
       "    <tr>\n",
       "      <th>4</th>\n",
       "      <td>2022-03-16</td>\n",
       "      <td>Off Fukushima</td>\n",
       "      <td>7.3</td>\n",
       "      <td>4</td>\n",
       "      <td>63.0</td>\n",
       "      <td>2022</td>\n",
       "      <td>3</td>\n",
       "      <td>16</td>\n",
       "      <td>Spring</td>\n",
       "      <td>Wednesday</td>\n",
       "      <td>0</td>\n",
       "    </tr>\n",
       "  </tbody>\n",
       "</table>\n",
       "</div>"
      ],
      "text/plain": [
       "        Date                     Region  Magnitude  Deaths  Depth (km)  Year  \\\n",
       "0 2024-01-01          Honshu (Ishikawa)        7.5     240        10.0  2024   \n",
       "1 2023-10-08                Izu Islands        4.9       0        10.0  2023   \n",
       "2 2023-10-05                Izu Islands        6.1       0        10.0  2023   \n",
       "3 2023-05-05  Honshu (Ishikawa, Toyama)        6.2       1         8.0  2023   \n",
       "4 2022-03-16              Off Fukushima        7.3       4        63.0  2022   \n",
       "\n",
       "   Month  Day  Season  DayOfWeek  IsWeekend  \n",
       "0      1    1  Winter     Monday          0  \n",
       "1     10    8    Fall     Sunday          1  \n",
       "2     10    5    Fall   Thursday          0  \n",
       "3      5    5  Spring     Friday          0  \n",
       "4      3   16  Spring  Wednesday          0  "
      ]
     },
     "execution_count": 46,
     "metadata": {},
     "output_type": "execute_result"
    }
   ],
   "source": [
    "Jpn.head()"
   ]
  },
  {
   "cell_type": "code",
   "execution_count": 47,
   "id": "14b9745a",
   "metadata": {},
   "outputs": [
    {
     "data": {
      "text/plain": [
       "array(['Honshu (Ishikawa)', 'Izu Islands', 'Honshu (Ishikawa, Toyama)',\n",
       "       'Off Fukushima', 'Honshu Island', 'Niigata Prefecture', 'Hokkaido',\n",
       "       'Osaka', 'Honshu (S. Of)', 'Shimane Prefecture',\n",
       "       'Near E Coast Honshu', 'Kurayoshi', 'Off East Coast Honshu',\n",
       "       'Kumamoto, Oita', 'Kyusyu Island',\n",
       "       'Bonin Islands [chichijima Island]', 'Honshu',\n",
       "       'Nagano (Hakuba, Otari)', 'Sanriku', 'Southwestern',\n",
       "       'Honshu (E Coast)', 'Miyakejima', 'Japan',\n",
       "       'Honshu (Miyagi Prefecture)', 'Bonin Islands',\n",
       "       'Tori Shima, Okinawa', 'Honshu (Ito)', 'Honshu (S Coast)',\n",
       "       'Off East Coast Of Honshu Island', 'Honshu (Tokyo)',\n",
       "       'Volcano Islands', 'Honshu (W Coast)', 'Kyushu',\n",
       "       'East Coast Honshu', 'Kyushu (Fukuoka, Genkai)',\n",
       "       'Hokkaido (Obiro, Haboro, Tomamae)', 'Hokkaido (Kushiro)',\n",
       "       'Hokkaido (Bekkai, Kushiro, Nemouro)',\n",
       "       'Honshu (Niigata Prefecture)',\n",
       "       'Honshu (W Coast: Kyoto, Wakayama, Sakai)',\n",
       "       'Honshu (W Coast: Kyoto)', 'Near S Coast Honshu (Atsugi)',\n",
       "       'Honshu (Miyagi, Iwate)',\n",
       "       'Honshu (Iwate, Miyagi, Yamagata, Akita)', 'Ryukyu Islands',\n",
       "       'Hiroshima, Okayama, Honshu, Kagama',\n",
       "       'Honshu (W: Okayama, Tottori)', 'Near S Coast Honshu (Nii-Jima)',\n",
       "       'Near S Coast Honshu (Kozu-Shima)', 'Kyushu, Kagoshima',\n",
       "       'Kyushu Island', 'Honshu Island, Japan', 'Ryuku Is.',\n",
       "       'Niigata Prefecture, Sado',\n",
       "       'Sw Honshu (Kobe, Awaji-Shima, Nishinomiya)',\n",
       "       'Hokkaido; Russia (Southeast; South Korea)',\n",
       "       'Honshu (Ishikawa, Toyama, Niigata)',\n",
       "       'Hokkadio, Kushiro, Hachinohe, Honshu',\n",
       "       'W. Of Bonin Islands, Izu Is.', 'Near S. Coast Of Honshu',\n",
       "       'Honshu (N, Aomori, Misawa)', 'N. Honshu Island',\n",
       "       'Honshu (Ito, Ajiro)', 'Honshu (Chiba Perfecture, Tokyo)',\n",
       "       'Kyushu (Miyazaki, Naze)', 'Honshu (Central: Mt Ontake)',\n",
       "       'Kyushu (Nobeoka)', 'Tottori, Yonango', 'Miyakejima, Oshima',\n",
       "       'Noshiro, Japan', 'Honshu (Akita)', 'S. Of Honshu Island',\n",
       "       'Ibaraki, Japan', 'Hokkaido, Urakawa, Hiroo', 'E. Honshu Island',\n",
       "       'Tokyo, Yokohama', 'Iwate, Japan', 'South Honshu (Hiroshima)',\n",
       "       'Ofunato, Tohoku', 'Tokkaido, Oshima', 'Oita, Arosan', 'Arosan',\n",
       "       'Honshu (Kakiota, Mito, Tokyo)', 'Nakagi', 'Hokkaido Island',\n",
       "       'South Of Honshu, Hachijojima',\n",
       "       'South Of Honshu (Hachijojima, Tokyo)', 'Japan Trench',\n",
       "       'Seikaido, Japan', 'Seikaido-Nankaido',\n",
       "       'Off Coast Of Honshu Island', 'Kyushu, Shikoku',\n",
       "       'Aichi, Shizouka Prefectures', 'Nw. Honshu Island, Japan',\n",
       "       'Nw. Honshu Island', 'Honshu (Sendai)',\n",
       "       'Se. Hokkaido Island, Japan', 'Se. Hokkaido Island', 'Miyazaki',\n",
       "       'Kashima', 'Sanriku, Japan', 'Izu Peninsula',\n",
       "       'Ne. Hokkaido Island, Japan'], dtype=object)"
      ]
     },
     "execution_count": 47,
     "metadata": {},
     "output_type": "execute_result"
    }
   ],
   "source": [
    "Jpn['Region'].unique()"
   ]
  },
  {
   "cell_type": "code",
   "execution_count": 48,
   "id": "1cc9f6cc",
   "metadata": {},
   "outputs": [],
   "source": [
    "mag_mean = Jpn['Magnitude'].mean()"
   ]
  },
  {
   "cell_type": "code",
   "execution_count": 49,
   "id": "c9968777",
   "metadata": {},
   "outputs": [],
   "source": [
    "mag_anomaly = Jpn.Magnitude - mag_mean"
   ]
  },
  {
   "cell_type": "code",
   "execution_count": 50,
   "id": "605cf89c",
   "metadata": {},
   "outputs": [
    {
     "data": {
      "text/plain": [
       "0      1.377778\n",
       "1     -1.222222\n",
       "2     -0.022222\n",
       "3      0.077778\n",
       "4      1.177778\n",
       "         ...   \n",
       "166   -6.122222\n",
       "167    0.377778\n",
       "168    1.277778\n",
       "169    0.977778\n",
       "170    1.977778\n",
       "Name: Magnitude, Length: 171, dtype: float64"
      ]
     },
     "execution_count": 50,
     "metadata": {},
     "output_type": "execute_result"
    }
   ],
   "source": [
    "mag_anomaly"
   ]
  },
  {
   "cell_type": "code",
   "execution_count": 51,
   "id": "7c8b1da9",
   "metadata": {},
   "outputs": [],
   "source": [
    "depth_mean = Jpn['Depth (km)'].mean()"
   ]
  },
  {
   "cell_type": "code",
   "execution_count": 52,
   "id": "7472dc64",
   "metadata": {},
   "outputs": [],
   "source": [
    "depth_anomaly = Jpn['Depth (km)'] - depth_mean"
   ]
  },
  {
   "cell_type": "code",
   "execution_count": 53,
   "id": "e3053e89",
   "metadata": {},
   "outputs": [
    {
     "data": {
      "text/plain": [
       "0     -2.112752e+01\n",
       "1     -2.112752e+01\n",
       "2     -2.112752e+01\n",
       "3     -2.312752e+01\n",
       "4      3.187248e+01\n",
       "           ...     \n",
       "166    1.421085e-14\n",
       "167    2.387248e+01\n",
       "168    1.421085e-14\n",
       "169    1.421085e-14\n",
       "170    9.872483e+00\n",
       "Name: Depth (km), Length: 171, dtype: float64"
      ]
     },
     "execution_count": 53,
     "metadata": {},
     "output_type": "execute_result"
    }
   ],
   "source": [
    "depth_anomaly"
   ]
  },
  {
   "cell_type": "code",
   "execution_count": 54,
   "id": "30d0a2f7",
   "metadata": {},
   "outputs": [],
   "source": [
    "anomaly_threshold = 2  "
   ]
  },
  {
   "cell_type": "code",
   "execution_count": 55,
   "id": "ac831494",
   "metadata": {},
   "outputs": [],
   "source": [
    "magnitude_anomalies = Jpn[abs(mag_anomaly) > anomaly_threshold]"
   ]
  },
  {
   "cell_type": "code",
   "execution_count": 56,
   "id": "ede32c76",
   "metadata": {},
   "outputs": [
    {
     "data": {
      "text/html": [
       "<div>\n",
       "<style scoped>\n",
       "    .dataframe tbody tr th:only-of-type {\n",
       "        vertical-align: middle;\n",
       "    }\n",
       "\n",
       "    .dataframe tbody tr th {\n",
       "        vertical-align: top;\n",
       "    }\n",
       "\n",
       "    .dataframe thead th {\n",
       "        text-align: right;\n",
       "    }\n",
       "</style>\n",
       "<table border=\"1\" class=\"dataframe\">\n",
       "  <thead>\n",
       "    <tr style=\"text-align: right;\">\n",
       "      <th></th>\n",
       "      <th>Date</th>\n",
       "      <th>Region</th>\n",
       "      <th>Magnitude</th>\n",
       "      <th>Deaths</th>\n",
       "      <th>Depth (km)</th>\n",
       "      <th>Year</th>\n",
       "      <th>Month</th>\n",
       "      <th>Day</th>\n",
       "      <th>Season</th>\n",
       "      <th>DayOfWeek</th>\n",
       "      <th>IsWeekend</th>\n",
       "    </tr>\n",
       "  </thead>\n",
       "  <tbody>\n",
       "    <tr>\n",
       "      <th>31</th>\n",
       "      <td>2011-03-11</td>\n",
       "      <td>Honshu</td>\n",
       "      <td>9.1</td>\n",
       "      <td>1475</td>\n",
       "      <td>24.000000</td>\n",
       "      <td>2011</td>\n",
       "      <td>3</td>\n",
       "      <td>11</td>\n",
       "      <td>Spring</td>\n",
       "      <td>Friday</td>\n",
       "      <td>0</td>\n",
       "    </tr>\n",
       "    <tr>\n",
       "      <th>64</th>\n",
       "      <td>2003-09-25</td>\n",
       "      <td>Hokkaido</td>\n",
       "      <td>8.3</td>\n",
       "      <td>0</td>\n",
       "      <td>6.000000</td>\n",
       "      <td>2003</td>\n",
       "      <td>9</td>\n",
       "      <td>25</td>\n",
       "      <td>Fall</td>\n",
       "      <td>Thursday</td>\n",
       "      <td>0</td>\n",
       "    </tr>\n",
       "    <tr>\n",
       "      <th>133</th>\n",
       "      <td>1969-04-21</td>\n",
       "      <td>Ryukyu Islands</td>\n",
       "      <td>0.0</td>\n",
       "      <td>0</td>\n",
       "      <td>31.127517</td>\n",
       "      <td>1969</td>\n",
       "      <td>4</td>\n",
       "      <td>21</td>\n",
       "      <td>Spring</td>\n",
       "      <td>Monday</td>\n",
       "      <td>0</td>\n",
       "    </tr>\n",
       "    <tr>\n",
       "      <th>136</th>\n",
       "      <td>1968-08-05</td>\n",
       "      <td>Seikaido-Nankaido</td>\n",
       "      <td>0.0</td>\n",
       "      <td>0</td>\n",
       "      <td>31.127517</td>\n",
       "      <td>1968</td>\n",
       "      <td>8</td>\n",
       "      <td>5</td>\n",
       "      <td>Summer</td>\n",
       "      <td>Monday</td>\n",
       "      <td>0</td>\n",
       "    </tr>\n",
       "    <tr>\n",
       "      <th>139</th>\n",
       "      <td>1968-05-16</td>\n",
       "      <td>Off East Coast Of Honshu Island</td>\n",
       "      <td>8.2</td>\n",
       "      <td>52</td>\n",
       "      <td>55.000000</td>\n",
       "      <td>1968</td>\n",
       "      <td>5</td>\n",
       "      <td>16</td>\n",
       "      <td>Spring</td>\n",
       "      <td>Thursday</td>\n",
       "      <td>0</td>\n",
       "    </tr>\n",
       "    <tr>\n",
       "      <th>143</th>\n",
       "      <td>1964-12-11</td>\n",
       "      <td>Nw. Honshu Island, Japan</td>\n",
       "      <td>0.0</td>\n",
       "      <td>0</td>\n",
       "      <td>31.127517</td>\n",
       "      <td>1964</td>\n",
       "      <td>12</td>\n",
       "      <td>11</td>\n",
       "      <td>Winter</td>\n",
       "      <td>Friday</td>\n",
       "      <td>0</td>\n",
       "    </tr>\n",
       "    <tr>\n",
       "      <th>149</th>\n",
       "      <td>1962-04-23</td>\n",
       "      <td>Se. Hokkaido Island, Japan</td>\n",
       "      <td>0.0</td>\n",
       "      <td>0</td>\n",
       "      <td>31.127517</td>\n",
       "      <td>1962</td>\n",
       "      <td>4</td>\n",
       "      <td>23</td>\n",
       "      <td>Spring</td>\n",
       "      <td>Monday</td>\n",
       "      <td>0</td>\n",
       "    </tr>\n",
       "    <tr>\n",
       "      <th>151</th>\n",
       "      <td>1961-11-15</td>\n",
       "      <td>Se. Hokkaido Island</td>\n",
       "      <td>0.0</td>\n",
       "      <td>0</td>\n",
       "      <td>31.127517</td>\n",
       "      <td>1961</td>\n",
       "      <td>11</td>\n",
       "      <td>15</td>\n",
       "      <td>Fall</td>\n",
       "      <td>Wednesday</td>\n",
       "      <td>0</td>\n",
       "    </tr>\n",
       "    <tr>\n",
       "      <th>153</th>\n",
       "      <td>1961-08-11</td>\n",
       "      <td>Se. Hokkaido Island</td>\n",
       "      <td>0.0</td>\n",
       "      <td>0</td>\n",
       "      <td>31.127517</td>\n",
       "      <td>1961</td>\n",
       "      <td>8</td>\n",
       "      <td>11</td>\n",
       "      <td>Summer</td>\n",
       "      <td>Friday</td>\n",
       "      <td>0</td>\n",
       "    </tr>\n",
       "    <tr>\n",
       "      <th>154</th>\n",
       "      <td>1961-07-18</td>\n",
       "      <td>Ryukyu Islands</td>\n",
       "      <td>0.0</td>\n",
       "      <td>0</td>\n",
       "      <td>31.127517</td>\n",
       "      <td>1961</td>\n",
       "      <td>7</td>\n",
       "      <td>18</td>\n",
       "      <td>Summer</td>\n",
       "      <td>Tuesday</td>\n",
       "      <td>0</td>\n",
       "    </tr>\n",
       "    <tr>\n",
       "      <th>156</th>\n",
       "      <td>1961-01-16</td>\n",
       "      <td>Kashima</td>\n",
       "      <td>0.0</td>\n",
       "      <td>0</td>\n",
       "      <td>31.127517</td>\n",
       "      <td>1961</td>\n",
       "      <td>1</td>\n",
       "      <td>16</td>\n",
       "      <td>Winter</td>\n",
       "      <td>Monday</td>\n",
       "      <td>0</td>\n",
       "    </tr>\n",
       "    <tr>\n",
       "      <th>157</th>\n",
       "      <td>1961-01-16</td>\n",
       "      <td>Kashima</td>\n",
       "      <td>0.0</td>\n",
       "      <td>0</td>\n",
       "      <td>31.127517</td>\n",
       "      <td>1961</td>\n",
       "      <td>1</td>\n",
       "      <td>16</td>\n",
       "      <td>Winter</td>\n",
       "      <td>Monday</td>\n",
       "      <td>0</td>\n",
       "    </tr>\n",
       "    <tr>\n",
       "      <th>158</th>\n",
       "      <td>1961-01-16</td>\n",
       "      <td>Kashima</td>\n",
       "      <td>0.0</td>\n",
       "      <td>0</td>\n",
       "      <td>31.127517</td>\n",
       "      <td>1961</td>\n",
       "      <td>1</td>\n",
       "      <td>16</td>\n",
       "      <td>Winter</td>\n",
       "      <td>Monday</td>\n",
       "      <td>0</td>\n",
       "    </tr>\n",
       "    <tr>\n",
       "      <th>162</th>\n",
       "      <td>1959-10-26</td>\n",
       "      <td>Sanriku, Japan</td>\n",
       "      <td>0.0</td>\n",
       "      <td>0</td>\n",
       "      <td>31.127517</td>\n",
       "      <td>1959</td>\n",
       "      <td>10</td>\n",
       "      <td>26</td>\n",
       "      <td>Fall</td>\n",
       "      <td>Monday</td>\n",
       "      <td>0</td>\n",
       "    </tr>\n",
       "    <tr>\n",
       "      <th>163</th>\n",
       "      <td>1959-01-22</td>\n",
       "      <td>Sanriku, Japan</td>\n",
       "      <td>0.0</td>\n",
       "      <td>0</td>\n",
       "      <td>31.127517</td>\n",
       "      <td>1959</td>\n",
       "      <td>1</td>\n",
       "      <td>22</td>\n",
       "      <td>Winter</td>\n",
       "      <td>Thursday</td>\n",
       "      <td>0</td>\n",
       "    </tr>\n",
       "    <tr>\n",
       "      <th>166</th>\n",
       "      <td>1956-03-05</td>\n",
       "      <td>Ne. Hokkaido Island, Japan</td>\n",
       "      <td>0.0</td>\n",
       "      <td>0</td>\n",
       "      <td>31.127517</td>\n",
       "      <td>1956</td>\n",
       "      <td>3</td>\n",
       "      <td>5</td>\n",
       "      <td>Spring</td>\n",
       "      <td>Monday</td>\n",
       "      <td>0</td>\n",
       "    </tr>\n",
       "  </tbody>\n",
       "</table>\n",
       "</div>"
      ],
      "text/plain": [
       "          Date                           Region  Magnitude  Deaths  \\\n",
       "31  2011-03-11                           Honshu        9.1    1475   \n",
       "64  2003-09-25                         Hokkaido        8.3       0   \n",
       "133 1969-04-21                   Ryukyu Islands        0.0       0   \n",
       "136 1968-08-05                Seikaido-Nankaido        0.0       0   \n",
       "139 1968-05-16  Off East Coast Of Honshu Island        8.2      52   \n",
       "143 1964-12-11         Nw. Honshu Island, Japan        0.0       0   \n",
       "149 1962-04-23       Se. Hokkaido Island, Japan        0.0       0   \n",
       "151 1961-11-15              Se. Hokkaido Island        0.0       0   \n",
       "153 1961-08-11              Se. Hokkaido Island        0.0       0   \n",
       "154 1961-07-18                   Ryukyu Islands        0.0       0   \n",
       "156 1961-01-16                          Kashima        0.0       0   \n",
       "157 1961-01-16                          Kashima        0.0       0   \n",
       "158 1961-01-16                          Kashima        0.0       0   \n",
       "162 1959-10-26                   Sanriku, Japan        0.0       0   \n",
       "163 1959-01-22                   Sanriku, Japan        0.0       0   \n",
       "166 1956-03-05       Ne. Hokkaido Island, Japan        0.0       0   \n",
       "\n",
       "     Depth (km)  Year  Month  Day  Season  DayOfWeek  IsWeekend  \n",
       "31    24.000000  2011      3   11  Spring     Friday          0  \n",
       "64     6.000000  2003      9   25    Fall   Thursday          0  \n",
       "133   31.127517  1969      4   21  Spring     Monday          0  \n",
       "136   31.127517  1968      8    5  Summer     Monday          0  \n",
       "139   55.000000  1968      5   16  Spring   Thursday          0  \n",
       "143   31.127517  1964     12   11  Winter     Friday          0  \n",
       "149   31.127517  1962      4   23  Spring     Monday          0  \n",
       "151   31.127517  1961     11   15    Fall  Wednesday          0  \n",
       "153   31.127517  1961      8   11  Summer     Friday          0  \n",
       "154   31.127517  1961      7   18  Summer    Tuesday          0  \n",
       "156   31.127517  1961      1   16  Winter     Monday          0  \n",
       "157   31.127517  1961      1   16  Winter     Monday          0  \n",
       "158   31.127517  1961      1   16  Winter     Monday          0  \n",
       "162   31.127517  1959     10   26    Fall     Monday          0  \n",
       "163   31.127517  1959      1   22  Winter   Thursday          0  \n",
       "166   31.127517  1956      3    5  Spring     Monday          0  "
      ]
     },
     "execution_count": 56,
     "metadata": {},
     "output_type": "execute_result"
    }
   ],
   "source": [
    "magnitude_anomalies"
   ]
  },
  {
   "cell_type": "code",
   "execution_count": 57,
   "id": "8dfe464a",
   "metadata": {},
   "outputs": [],
   "source": [
    "from sklearn.ensemble import IsolationForest\n",
    "from sklearn.model_selection import train_test_split\n",
    "from sklearn.metrics import classification_report"
   ]
  },
  {
   "cell_type": "code",
   "execution_count": 58,
   "id": "f8234769",
   "metadata": {},
   "outputs": [
    {
     "data": {
      "text/html": [
       "<div>\n",
       "<style scoped>\n",
       "    .dataframe tbody tr th:only-of-type {\n",
       "        vertical-align: middle;\n",
       "    }\n",
       "\n",
       "    .dataframe tbody tr th {\n",
       "        vertical-align: top;\n",
       "    }\n",
       "\n",
       "    .dataframe thead th {\n",
       "        text-align: right;\n",
       "    }\n",
       "</style>\n",
       "<table border=\"1\" class=\"dataframe\">\n",
       "  <thead>\n",
       "    <tr style=\"text-align: right;\">\n",
       "      <th></th>\n",
       "      <th>Date</th>\n",
       "      <th>Region</th>\n",
       "      <th>Magnitude</th>\n",
       "      <th>Deaths</th>\n",
       "      <th>Depth (km)</th>\n",
       "      <th>Year</th>\n",
       "      <th>Month</th>\n",
       "      <th>Day</th>\n",
       "      <th>Season</th>\n",
       "      <th>DayOfWeek</th>\n",
       "      <th>IsWeekend</th>\n",
       "    </tr>\n",
       "  </thead>\n",
       "  <tbody>\n",
       "    <tr>\n",
       "      <th>0</th>\n",
       "      <td>2024-01-01</td>\n",
       "      <td>Honshu (Ishikawa)</td>\n",
       "      <td>7.5</td>\n",
       "      <td>240</td>\n",
       "      <td>10.000000</td>\n",
       "      <td>2024</td>\n",
       "      <td>1</td>\n",
       "      <td>1</td>\n",
       "      <td>Winter</td>\n",
       "      <td>Monday</td>\n",
       "      <td>0</td>\n",
       "    </tr>\n",
       "    <tr>\n",
       "      <th>1</th>\n",
       "      <td>2023-10-08</td>\n",
       "      <td>Izu Islands</td>\n",
       "      <td>4.9</td>\n",
       "      <td>0</td>\n",
       "      <td>10.000000</td>\n",
       "      <td>2023</td>\n",
       "      <td>10</td>\n",
       "      <td>8</td>\n",
       "      <td>Fall</td>\n",
       "      <td>Sunday</td>\n",
       "      <td>1</td>\n",
       "    </tr>\n",
       "    <tr>\n",
       "      <th>2</th>\n",
       "      <td>2023-10-05</td>\n",
       "      <td>Izu Islands</td>\n",
       "      <td>6.1</td>\n",
       "      <td>0</td>\n",
       "      <td>10.000000</td>\n",
       "      <td>2023</td>\n",
       "      <td>10</td>\n",
       "      <td>5</td>\n",
       "      <td>Fall</td>\n",
       "      <td>Thursday</td>\n",
       "      <td>0</td>\n",
       "    </tr>\n",
       "    <tr>\n",
       "      <th>3</th>\n",
       "      <td>2023-05-05</td>\n",
       "      <td>Honshu (Ishikawa, Toyama)</td>\n",
       "      <td>6.2</td>\n",
       "      <td>1</td>\n",
       "      <td>8.000000</td>\n",
       "      <td>2023</td>\n",
       "      <td>5</td>\n",
       "      <td>5</td>\n",
       "      <td>Spring</td>\n",
       "      <td>Friday</td>\n",
       "      <td>0</td>\n",
       "    </tr>\n",
       "    <tr>\n",
       "      <th>4</th>\n",
       "      <td>2022-03-16</td>\n",
       "      <td>Off Fukushima</td>\n",
       "      <td>7.3</td>\n",
       "      <td>4</td>\n",
       "      <td>63.000000</td>\n",
       "      <td>2022</td>\n",
       "      <td>3</td>\n",
       "      <td>16</td>\n",
       "      <td>Spring</td>\n",
       "      <td>Wednesday</td>\n",
       "      <td>0</td>\n",
       "    </tr>\n",
       "    <tr>\n",
       "      <th>...</th>\n",
       "      <td>...</td>\n",
       "      <td>...</td>\n",
       "      <td>...</td>\n",
       "      <td>...</td>\n",
       "      <td>...</td>\n",
       "      <td>...</td>\n",
       "      <td>...</td>\n",
       "      <td>...</td>\n",
       "      <td>...</td>\n",
       "      <td>...</td>\n",
       "      <td>...</td>\n",
       "    </tr>\n",
       "    <tr>\n",
       "      <th>166</th>\n",
       "      <td>1956-03-05</td>\n",
       "      <td>Ne. Hokkaido Island, Japan</td>\n",
       "      <td>0.0</td>\n",
       "      <td>0</td>\n",
       "      <td>31.127517</td>\n",
       "      <td>1956</td>\n",
       "      <td>3</td>\n",
       "      <td>5</td>\n",
       "      <td>Spring</td>\n",
       "      <td>Monday</td>\n",
       "      <td>0</td>\n",
       "    </tr>\n",
       "    <tr>\n",
       "      <th>167</th>\n",
       "      <td>1954-11-18</td>\n",
       "      <td>Honshu (Miyagi Prefecture)</td>\n",
       "      <td>6.5</td>\n",
       "      <td>0</td>\n",
       "      <td>55.000000</td>\n",
       "      <td>1954</td>\n",
       "      <td>11</td>\n",
       "      <td>18</td>\n",
       "      <td>Fall</td>\n",
       "      <td>Thursday</td>\n",
       "      <td>0</td>\n",
       "    </tr>\n",
       "    <tr>\n",
       "      <th>168</th>\n",
       "      <td>1953-11-25</td>\n",
       "      <td>Kashima</td>\n",
       "      <td>7.4</td>\n",
       "      <td>1</td>\n",
       "      <td>31.127517</td>\n",
       "      <td>1953</td>\n",
       "      <td>11</td>\n",
       "      <td>25</td>\n",
       "      <td>Fall</td>\n",
       "      <td>Wednesday</td>\n",
       "      <td>0</td>\n",
       "    </tr>\n",
       "    <tr>\n",
       "      <th>169</th>\n",
       "      <td>1952-03-09</td>\n",
       "      <td>Hokkaido</td>\n",
       "      <td>7.1</td>\n",
       "      <td>0</td>\n",
       "      <td>31.127517</td>\n",
       "      <td>1952</td>\n",
       "      <td>3</td>\n",
       "      <td>9</td>\n",
       "      <td>Spring</td>\n",
       "      <td>Sunday</td>\n",
       "      <td>1</td>\n",
       "    </tr>\n",
       "    <tr>\n",
       "      <th>170</th>\n",
       "      <td>1952-03-04</td>\n",
       "      <td>Hokkaido</td>\n",
       "      <td>8.1</td>\n",
       "      <td>33</td>\n",
       "      <td>41.000000</td>\n",
       "      <td>1952</td>\n",
       "      <td>3</td>\n",
       "      <td>4</td>\n",
       "      <td>Spring</td>\n",
       "      <td>Tuesday</td>\n",
       "      <td>0</td>\n",
       "    </tr>\n",
       "  </tbody>\n",
       "</table>\n",
       "<p>171 rows × 11 columns</p>\n",
       "</div>"
      ],
      "text/plain": [
       "          Date                      Region  Magnitude  Deaths  Depth (km)  \\\n",
       "0   2024-01-01           Honshu (Ishikawa)        7.5     240   10.000000   \n",
       "1   2023-10-08                 Izu Islands        4.9       0   10.000000   \n",
       "2   2023-10-05                 Izu Islands        6.1       0   10.000000   \n",
       "3   2023-05-05   Honshu (Ishikawa, Toyama)        6.2       1    8.000000   \n",
       "4   2022-03-16               Off Fukushima        7.3       4   63.000000   \n",
       "..         ...                         ...        ...     ...         ...   \n",
       "166 1956-03-05  Ne. Hokkaido Island, Japan        0.0       0   31.127517   \n",
       "167 1954-11-18  Honshu (Miyagi Prefecture)        6.5       0   55.000000   \n",
       "168 1953-11-25                     Kashima        7.4       1   31.127517   \n",
       "169 1952-03-09                    Hokkaido        7.1       0   31.127517   \n",
       "170 1952-03-04                    Hokkaido        8.1      33   41.000000   \n",
       "\n",
       "     Year  Month  Day  Season  DayOfWeek  IsWeekend  \n",
       "0    2024      1    1  Winter     Monday          0  \n",
       "1    2023     10    8    Fall     Sunday          1  \n",
       "2    2023     10    5    Fall   Thursday          0  \n",
       "3    2023      5    5  Spring     Friday          0  \n",
       "4    2022      3   16  Spring  Wednesday          0  \n",
       "..    ...    ...  ...     ...        ...        ...  \n",
       "166  1956      3    5  Spring     Monday          0  \n",
       "167  1954     11   18    Fall   Thursday          0  \n",
       "168  1953     11   25    Fall  Wednesday          0  \n",
       "169  1952      3    9  Spring     Sunday          1  \n",
       "170  1952      3    4  Spring    Tuesday          0  \n",
       "\n",
       "[171 rows x 11 columns]"
      ]
     },
     "execution_count": 58,
     "metadata": {},
     "output_type": "execute_result"
    }
   ],
   "source": [
    "Jpn"
   ]
  },
  {
   "cell_type": "markdown",
   "id": "40cc3d7b",
   "metadata": {},
   "source": [
    "#### Modelling"
   ]
  },
  {
   "cell_type": "code",
   "execution_count": 59,
   "id": "3a667c35",
   "metadata": {},
   "outputs": [],
   "source": [
    "# Convert categorical variables to numerical\n",
    "label_encoders = {}\n",
    "for column in ['Season', 'DayOfWeek']:\n",
    "    label_encoders[column] = LabelEncoder()\n",
    "    Jpn[column] = label_encoders[column].fit_transform(Jpn[column])"
   ]
  },
  {
   "cell_type": "code",
   "execution_count": 60,
   "id": "223fccce",
   "metadata": {},
   "outputs": [],
   "source": [
    "X = Jpn.drop(['Date', 'Region', 'Year', 'Month', 'Day'], axis=1)\n",
    "y_occurrence = X.pop('Magnitude')  # Target variable for earthquake occurrence\n",
    "y_magnitude = Jpn['Magnitude']    # Target variable for earthquake magnitude"
   ]
  },
  {
   "cell_type": "code",
   "execution_count": 61,
   "id": "874ffe37",
   "metadata": {},
   "outputs": [],
   "source": [
    "# Normalize numerical features\n",
    "scaler = StandardScaler()\n",
    "X_scaled = scaler.fit_transform(X)"
   ]
  },
  {
   "cell_type": "code",
   "execution_count": 62,
   "id": "05cfbe89",
   "metadata": {},
   "outputs": [],
   "source": [
    "# Split data into train and test sets\n",
    "X_train, X_test, y_train_occurrence, y_test_occurrence, y_train_magnitude, y_test_magnitude = train_test_split(\n",
    "    X_scaled, y_occurrence, y_magnitude, test_size=0.2, random_state=42)"
   ]
  },
  {
   "cell_type": "code",
   "execution_count": 63,
   "id": "1134f323",
   "metadata": {},
   "outputs": [],
   "source": [
    "linear_reg = LinearRegression()\n",
    "dt_reg = DecisionTreeRegressor()\n",
    "rf_reg = RandomForestRegressor()\n",
    "knn_reg = KNeighborsRegressor()\n",
    "svm_reg = SVR()"
   ]
  },
  {
   "cell_type": "code",
   "execution_count": 64,
   "id": "28565198",
   "metadata": {},
   "outputs": [
    {
     "data": {
      "text/plain": [
       "LinearRegression()"
      ]
     },
     "execution_count": 64,
     "metadata": {},
     "output_type": "execute_result"
    }
   ],
   "source": [
    "linear_reg.fit(X_train, y_train_magnitude)"
   ]
  },
  {
   "cell_type": "code",
   "execution_count": 65,
   "id": "6e619618",
   "metadata": {},
   "outputs": [
    {
     "data": {
      "text/plain": [
       "DecisionTreeRegressor()"
      ]
     },
     "execution_count": 65,
     "metadata": {},
     "output_type": "execute_result"
    }
   ],
   "source": [
    "dt_reg.fit(X_train, y_train_magnitude)"
   ]
  },
  {
   "cell_type": "code",
   "execution_count": 66,
   "id": "4e40982c",
   "metadata": {},
   "outputs": [
    {
     "data": {
      "text/plain": [
       "RandomForestRegressor()"
      ]
     },
     "execution_count": 66,
     "metadata": {},
     "output_type": "execute_result"
    }
   ],
   "source": [
    "rf_reg.fit(X_train, y_train_magnitude)"
   ]
  },
  {
   "cell_type": "code",
   "execution_count": 67,
   "id": "84843863",
   "metadata": {},
   "outputs": [
    {
     "data": {
      "text/plain": [
       "KNeighborsRegressor()"
      ]
     },
     "execution_count": 67,
     "metadata": {},
     "output_type": "execute_result"
    }
   ],
   "source": [
    "knn_reg.fit(X_train, y_train_magnitude)"
   ]
  },
  {
   "cell_type": "code",
   "execution_count": 68,
   "id": "a70f1ce4",
   "metadata": {},
   "outputs": [
    {
     "data": {
      "text/plain": [
       "SVR()"
      ]
     },
     "execution_count": 68,
     "metadata": {},
     "output_type": "execute_result"
    }
   ],
   "source": [
    "svm_reg.fit(X_train, y_train_magnitude)"
   ]
  },
  {
   "cell_type": "code",
   "execution_count": 69,
   "id": "f7712d6a",
   "metadata": {},
   "outputs": [],
   "source": [
    "# Predictions\n",
    "predictions_linear_reg = linear_reg.predict(X_test)\n",
    "predictions_dt_reg = dt_reg.predict(X_test)\n",
    "predictions_rf_reg = rf_reg.predict(X_test)\n",
    "predictions_knn_reg = knn_reg.predict(X_test)\n",
    "predictions_svm_reg = svm_reg.predict(X_test)"
   ]
  },
  {
   "cell_type": "code",
   "execution_count": 70,
   "id": "5af0f4f8",
   "metadata": {},
   "outputs": [],
   "source": [
    "def evaluate_model(name, predictions, y_test):\n",
    "    mse = mean_squared_error(y_test, predictions)\n",
    "    r2 = r2_score(y_test, predictions)\n",
    "    print(f\"{name}:\")\n",
    "    print(f\"Mean Squared Error: {mse}\")\n",
    "    print(f\"R^2 Score: {r2}\")\n",
    "    print()"
   ]
  },
  {
   "cell_type": "code",
   "execution_count": 76,
   "id": "5b2ec3d0",
   "metadata": {},
   "outputs": [],
   "source": [
    "# Define a function to evaluate the model using different metrics\n",
    "def evaluate_model(name, predictions, y_test):\n",
    "    mae = mean_absolute_error(y_test, predictions)\n",
    "    mse = mean_squared_error(y_test, predictions)\n",
    "    rmse = np.sqrt(mse)\n",
    "    r2 = r2_score(y_test, predictions)\n",
    "    print(f\"{name}:\")\n",
    "    print(f\"Mean Absolute Error: {mae}\")\n",
    "    print(f\"Mean Squared Error: {mse}\")\n",
    "    print(f\"Root Mean Squared Error: {rmse}\")\n",
    "    print(f\"R^2 Score: {r2}\")\n",
    "    print()"
   ]
  },
  {
   "cell_type": "code",
   "execution_count": 77,
   "id": "12a2cf3c",
   "metadata": {},
   "outputs": [
    {
     "name": "stdout",
     "output_type": "stream",
     "text": [
      "Linear Regression:\n",
      "Mean Absolute Error: 1.2089947463183797\n",
      "Mean Squared Error: 3.104327280404609\n",
      "Root Mean Squared Error: 1.7619101226806686\n",
      "R^2 Score: -0.029414401862313255\n",
      "\n"
     ]
    }
   ],
   "source": [
    "evaluate_model(\"Linear Regression\", predictions_linear_reg, y_test_magnitude)"
   ]
  },
  {
   "cell_type": "code",
   "execution_count": 78,
   "id": "7ebce7b9",
   "metadata": {},
   "outputs": [
    {
     "name": "stdout",
     "output_type": "stream",
     "text": [
      "Decision Tree Regression:\n",
      "Mean Absolute Error: 1.0314285714285714\n",
      "Mean Squared Error: 2.611142857142857\n",
      "Root Mean Squared Error: 1.6159031088350742\n",
      "R^2 Score: 0.13412864699226335\n",
      "\n"
     ]
    }
   ],
   "source": [
    "evaluate_model(\"Decision Tree Regression\", predictions_dt_reg, y_test_magnitude)"
   ]
  },
  {
   "cell_type": "code",
   "execution_count": 79,
   "id": "c60a2777",
   "metadata": {},
   "outputs": [
    {
     "name": "stdout",
     "output_type": "stream",
     "text": [
      "Random Forest Regression:\n",
      "Mean Absolute Error: 0.7183519727891154\n",
      "Mean Squared Error: 0.9398949232439254\n",
      "Root Mean Squared Error: 0.9694817807694611\n",
      "R^2 Score: 0.6883249468147367\n",
      "\n"
     ]
    }
   ],
   "source": [
    "evaluate_model(\"Random Forest Regression\", predictions_rf_reg, y_test_magnitude)"
   ]
  },
  {
   "cell_type": "code",
   "execution_count": 80,
   "id": "86582583",
   "metadata": {},
   "outputs": [
    {
     "name": "stdout",
     "output_type": "stream",
     "text": [
      "KNN Regression:\n",
      "Mean Absolute Error: 1.2674285714285716\n",
      "Mean Squared Error: 3.8454857142857146\n",
      "Root Mean Squared Error: 1.9609910031118742\n",
      "R^2 Score: -0.27518718835777767\n",
      "\n"
     ]
    }
   ],
   "source": [
    "evaluate_model(\"KNN Regression\", predictions_knn_reg, y_test_magnitude)"
   ]
  },
  {
   "cell_type": "code",
   "execution_count": 81,
   "id": "cfa7dcc4",
   "metadata": {},
   "outputs": [
    {
     "name": "stdout",
     "output_type": "stream",
     "text": [
      "SVR:\n",
      "Mean Absolute Error: 0.986366584063071\n",
      "Mean Squared Error: 2.947975728562793\n",
      "Root Mean Squared Error: 1.7169670144073221\n",
      "R^2 Score: 0.022432753634290425\n",
      "\n"
     ]
    }
   ],
   "source": [
    "evaluate_model(\"SVR\", predictions_svm_reg, y_test_magnitude)"
   ]
  },
  {
   "cell_type": "code",
   "execution_count": 82,
   "id": "70d5e306",
   "metadata": {},
   "outputs": [
    {
     "data": {
      "image/png": "[encoded data removed]",
      "text/plain": [
       "<Figure size 640x480 with 1 Axes>"
      ]
     },
     "metadata": {},
     "output_type": "display_data"
    }
   ],
   "source": [
    "from sklearn.metrics import mean_absolute_error, mean_squared_error, r2_score\n",
    "\n",
    "# Residual Analysis for Random Forest Regression (example)\n",
    "residuals_rf = y_test_magnitude - predictions_rf_reg\n",
    "plt.scatter(predictions_rf_reg, residuals_rf)\n",
    "plt.xlabel(\"Predicted Magnitude\")\n",
    "plt.ylabel(\"Residuals\")\n",
    "plt.title(\"Residual Plot for Random Forest Regression\")\n",
    "plt.show()"
   ]
  },
  {
   "cell_type": "markdown",
   "id": "b134b0a5",
   "metadata": {},
   "source": [
    "### Plot actual vs predicted magnitudes"
   ]
  },
  {
   "cell_type": "code",
   "execution_count": 83,
   "id": "992a703a",
   "metadata": {},
   "outputs": [
    {
     "data": {
      "image/png": "[encoded data removed]",
      "text/plain": [
       "<Figure size 600x400 with 1 Axes>"
      ]
     },
     "metadata": {},
     "output_type": "display_data"
    }
   ],
   "source": [
    "plt.figure(figsize=(6, 4))\n",
    "plt.scatter(y_test_magnitude, predictions_rf_reg, color='blue', alpha=0.5)\n",
    "plt.plot([min(y_test_magnitude), max(y_test_magnitude)], [min(y_test_magnitude), max(y_test_magnitude)], color='red', linestyle='--')\n",
    "plt.title('Actual Magnitude vs Predicted Magnitude (Random Forest Regression)')\n",
    "plt.xlabel('Actual Magnitude')\n",
    "plt.ylabel('Predicted Magnitude')\n",
    "plt.grid(True)\n",
    "plt.show()"
   ]
  },
  {
   "cell_type": "code",
   "execution_count": null,
   "id": "170265f2",
   "metadata": {},
   "outputs": [],
   "source": []
  }
 ],
 "metadata": {
  "kernelspec": {
   "display_name": "Python 3 (ipykernel)",
   "language": "python",
   "name": "python3"
  },
  "language_info": {
   "codemirror_mode": {
    "name": "ipython",
    "version": 3
   },
   "file_extension": ".py",
   "mimetype": "text/x-python",
   "name": "python",
   "nbconvert_exporter": "python",
   "pygments_lexer": "ipython3",
   "version": "3.9.13"
  }
 },
 "nbformat": 4,
 "nbformat_minor": 5
}
